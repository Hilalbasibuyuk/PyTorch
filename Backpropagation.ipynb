{
 "cells": [
  {
   "cell_type": "code",
   "execution_count": 1,
   "id": "567d5830",
   "metadata": {},
   "outputs": [],
   "source": [
    "import torch"
   ]
  },
  {
   "cell_type": "code",
   "execution_count": 2,
   "id": "5fcf09ce",
   "metadata": {},
   "outputs": [],
   "source": [
    "x = torch.tensor(1.0)\n",
    "y = torch.tensor(2.0)\n",
    "w = torch.tensor(1.0, requires_grad = True) # türev hesaplamasını istiyoruz"
   ]
  },
  {
   "cell_type": "code",
   "execution_count": 4,
   "id": "364f92ad",
   "metadata": {},
   "outputs": [
    {
     "data": {
      "text/plain": [
       "tensor(1., grad_fn=<PowBackward0>)"
      ]
     },
     "execution_count": 4,
     "metadata": {},
     "output_type": "execute_result"
    }
   ],
   "source": [
    "# forward pass and compute the loss\n",
    "y_hat = w * x\n",
    "loss = (y_hat - y) ** 2 # mean squared error loss\n",
    "loss "
   ]
  },
  {
   "cell_type": "code",
   "execution_count": 5,
   "id": "d24ed057",
   "metadata": {},
   "outputs": [
    {
     "name": "stdout",
     "output_type": "stream",
     "text": [
      "tensor(-2.)\n"
     ]
    }
   ],
   "source": [
    "loss.backward() # Geri yayılım (otomatik türev hesaplama mekanizması)\n",
    "print(w.grad) # w parametresinin türevi"
   ]
  }
 ],
 "metadata": {
  "kernelspec": {
   "display_name": "Python 3 (ipykernel)",
   "language": "python",
   "name": "python3"
  },
  "language_info": {
   "codemirror_mode": {
    "name": "ipython",
    "version": 3
   },
   "file_extension": ".py",
   "mimetype": "text/x-python",
   "name": "python",
   "nbconvert_exporter": "python",
   "pygments_lexer": "ipython3",
   "version": "3.10.13"
  }
 },
 "nbformat": 4,
 "nbformat_minor": 5
}
