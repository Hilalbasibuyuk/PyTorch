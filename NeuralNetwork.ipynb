{
 "cells": [
  {
   "cell_type": "code",
   "execution_count": 1,
   "id": "954231eb-a1e9-4971-8241-7334fc07f948",
   "metadata": {},
   "outputs": [],
   "source": [
    "import os\n",
    "import torch\n",
    "from torch import nn\n",
    "from torch.utils.data import DataLoader\n",
    "from torchvision import datasets, transforms"
   ]
  },
  {
   "cell_type": "code",
   "execution_count": 2,
   "id": "db102703-698c-4d3c-aa23-63bfdfcd756b",
   "metadata": {},
   "outputs": [
    {
     "name": "stdout",
     "output_type": "stream",
     "text": [
      "Using cuda device\n"
     ]
    }
   ],
   "source": [
    "device = (\n",
    "    \"cuda\"\n",
    "    if torch.cuda.is_available()\n",
    "    else \"mps\"\n",
    "    if torch.backends.mps.is_available()\n",
    "    else \"cpu\"\n",
    ")\n",
    "print(f\"Using {device} device\")"
   ]
  },
  {
   "cell_type": "code",
   "execution_count": 6,
   "id": "0308fdd3-0a23-4feb-9861-8bb300914b48",
   "metadata": {},
   "outputs": [],
   "source": [
    "class NeuralNetwork(nn.Module):\n",
    "    def __init__(self):\n",
    "        super().__init__()\n",
    "        self.flatten = nn.Flatten()\n",
    "        self.linear_relu_stack= nn.Sequential(\n",
    "            nn.Linear(28*28, 512),\n",
    "            nn.ReLU(),\n",
    "            nn.Linear(512,512),\n",
    "            nn.ReLU(),\n",
    "            nn.Linear(512,10)\n",
    "        )\n",
    "    def forward(self,x):\n",
    "        x = self.flatten(x)\n",
    "        logits = self.linear_relu_stack(x)\n",
    "        return logits"
   ]
  },
  {
   "cell_type": "code",
   "execution_count": 7,
   "id": "10671295-607f-4b9d-a25b-1c92d9ebca3f",
   "metadata": {},
   "outputs": [
    {
     "name": "stdout",
     "output_type": "stream",
     "text": [
      "NeuralNetwork(\n",
      "  (flatten): Flatten(start_dim=1, end_dim=-1)\n",
      "  (linear_relu_stack): Sequential(\n",
      "    (0): Linear(in_features=784, out_features=512, bias=True)\n",
      "    (1): ReLU()\n",
      "    (2): Linear(in_features=512, out_features=512, bias=True)\n",
      "    (3): ReLU()\n",
      "    (4): Linear(in_features=512, out_features=10, bias=True)\n",
      "  )\n",
      ")\n"
     ]
    }
   ],
   "source": [
    "model = NeuralNetwork().to(device)\n",
    "print(model)"
   ]
  },
  {
   "cell_type": "code",
   "execution_count": 8,
   "id": "8d9dbe3c-378e-4dc3-9359-ae751e872fd4",
   "metadata": {},
   "outputs": [
    {
     "name": "stdout",
     "output_type": "stream",
     "text": [
      "Predicted class: tensor([7], device='cuda:0')\n"
     ]
    }
   ],
   "source": [
    "X = torch.rand(1 ,28, 28, device = device)\n",
    "logits = model(X)\n",
    "pred_probab = nn.Softmax(dim=1)(logits)\n",
    "y_pred = pred_probab.argmax(1)\n",
    "print(f\"Predicted class: {y_pred}\")"
   ]
  },
  {
   "cell_type": "code",
   "execution_count": 9,
   "id": "584511b0-a390-4489-baf2-227ec5cf0b45",
   "metadata": {},
   "outputs": [
    {
     "name": "stdout",
     "output_type": "stream",
     "text": [
      "torch.Size([3, 28, 28])\n"
     ]
    }
   ],
   "source": [
    "input_image = torch.rand(3,28,28)\n",
    "print(input_image.size())"
   ]
  },
  {
   "cell_type": "code",
   "execution_count": 12,
   "id": "901f36e2-0430-4eac-917f-c9f5e92f61c4",
   "metadata": {},
   "outputs": [
    {
     "name": "stdout",
     "output_type": "stream",
     "text": [
      "torch.Size([3, 784])\n"
     ]
    }
   ],
   "source": [
    "flatten = nn.Flatten()\n",
    "flatten_image = flatten(input_image)\n",
    "print(flatten_image.size())"
   ]
  },
  {
   "cell_type": "code",
   "execution_count": 13,
   "id": "7590917e-2b5a-48fa-8a87-1559322c7f71",
   "metadata": {},
   "outputs": [
    {
     "name": "stdout",
     "output_type": "stream",
     "text": [
      "torch.Size([3, 20])\n"
     ]
    }
   ],
   "source": [
    "layer1 = nn.Linear(in_features = 28*28, out_features=20)\n",
    "hidden1 = layer1(flatten_image)\n",
    "print(hidden1.size())"
   ]
  },
  {
   "cell_type": "code",
   "execution_count": 14,
   "id": "7aac0279-fabc-45be-87b8-c8a8ffc7ac80",
   "metadata": {},
   "outputs": [
    {
     "name": "stdout",
     "output_type": "stream",
     "text": [
      "Before ReLU: tensor([[-2.4685e-01,  4.2901e-01,  2.6771e-02, -1.9838e-01, -6.8849e-01,\n",
      "          8.8736e-01, -4.9201e-01, -1.1421e-01, -6.8779e-01, -7.7755e-02,\n",
      "          8.0027e-03,  1.7341e-01,  1.3329e-01,  5.4752e-01, -4.1992e-01,\n",
      "         -1.8905e-01,  1.2071e-01, -2.5851e-01,  6.3917e-01, -9.9282e-02],\n",
      "        [-5.7524e-01,  3.4910e-01, -1.3640e-01, -3.3649e-01, -7.5178e-01,\n",
      "          5.5776e-01, -2.9494e-01,  1.0099e-01, -5.3605e-01,  1.0750e-01,\n",
      "         -2.3603e-01,  6.4627e-02,  6.5741e-01,  1.1796e-01, -2.1982e-01,\n",
      "         -2.5628e-01,  1.6705e-02, -2.0111e-01,  9.3106e-01,  4.6325e-01],\n",
      "        [-4.8886e-01,  1.7496e-01,  6.0016e-02, -5.2637e-01, -4.7533e-01,\n",
      "          5.8058e-01,  6.7745e-02, -2.5602e-01, -8.4233e-01,  5.3498e-02,\n",
      "         -5.0424e-02,  4.8903e-02,  3.3690e-01,  3.0415e-01, -2.3814e-04,\n",
      "         -1.5718e-02,  3.0897e-04, -4.3673e-01,  5.5034e-01,  1.3185e-01]],\n",
      "       grad_fn=<AddmmBackward0>)\n",
      "\n",
      "\n",
      "After ReLU: tensor([[0.0000e+00, 4.2901e-01, 2.6771e-02, 0.0000e+00, 0.0000e+00, 8.8736e-01,\n",
      "         0.0000e+00, 0.0000e+00, 0.0000e+00, 0.0000e+00, 8.0027e-03, 1.7341e-01,\n",
      "         1.3329e-01, 5.4752e-01, 0.0000e+00, 0.0000e+00, 1.2071e-01, 0.0000e+00,\n",
      "         6.3917e-01, 0.0000e+00],\n",
      "        [0.0000e+00, 3.4910e-01, 0.0000e+00, 0.0000e+00, 0.0000e+00, 5.5776e-01,\n",
      "         0.0000e+00, 1.0099e-01, 0.0000e+00, 1.0750e-01, 0.0000e+00, 6.4627e-02,\n",
      "         6.5741e-01, 1.1796e-01, 0.0000e+00, 0.0000e+00, 1.6705e-02, 0.0000e+00,\n",
      "         9.3106e-01, 4.6325e-01],\n",
      "        [0.0000e+00, 1.7496e-01, 6.0016e-02, 0.0000e+00, 0.0000e+00, 5.8058e-01,\n",
      "         6.7745e-02, 0.0000e+00, 0.0000e+00, 5.3498e-02, 0.0000e+00, 4.8903e-02,\n",
      "         3.3690e-01, 3.0415e-01, 0.0000e+00, 0.0000e+00, 3.0897e-04, 0.0000e+00,\n",
      "         5.5034e-01, 1.3185e-01]], grad_fn=<ReluBackward0>)\n"
     ]
    }
   ],
   "source": [
    "print(f\"Before ReLU: {hidden1}\\n\\n\")\n",
    "hidden1 = nn.ReLU()(hidden1)\n",
    "print(f\"After ReLU: {hidden1}\")"
   ]
  },
  {
   "cell_type": "code",
   "execution_count": 16,
   "id": "55a56328-a6a9-4f4a-a421-0281d6dbac2a",
   "metadata": {},
   "outputs": [],
   "source": [
    "seq_modules = nn.Sequential(\n",
    "    flatten,\n",
    "    layer1,\n",
    "    nn.ReLU(),\n",
    "    nn.Linear(20,10)\n",
    ")\n",
    "input_image = torch.rand(3,28,28)\n",
    "logits = seq_modules(input_image)"
   ]
  },
  {
   "cell_type": "code",
   "execution_count": 17,
   "id": "0481e5e6-1ca3-4c7d-9fd9-f480473da16c",
   "metadata": {},
   "outputs": [],
   "source": [
    "softmax = nn.Softmax(dim=1)\n",
    "pred_probab = softmax(logits)"
   ]
  },
  {
   "cell_type": "code",
   "execution_count": 18,
   "id": "cbd3e95b-1e9c-42d2-8e39-fe4a32dbb17a",
   "metadata": {},
   "outputs": [
    {
     "name": "stdout",
     "output_type": "stream",
     "text": [
      "Model structure: NeuralNetwork(\n",
      "  (flatten): Flatten(start_dim=1, end_dim=-1)\n",
      "  (linear_relu_stack): Sequential(\n",
      "    (0): Linear(in_features=784, out_features=512, bias=True)\n",
      "    (1): ReLU()\n",
      "    (2): Linear(in_features=512, out_features=512, bias=True)\n",
      "    (3): ReLU()\n",
      "    (4): Linear(in_features=512, out_features=10, bias=True)\n",
      "  )\n",
      ")\n",
      "\n",
      "\n",
      "Layer: linear_relu_stack.0.weight | Size: torch.Size([512, 784]) | Values : tensor([[ 0.0074,  0.0214, -0.0255,  ...,  0.0008, -0.0346, -0.0259],\n",
      "        [-0.0331, -0.0333,  0.0090,  ...,  0.0118, -0.0269, -0.0139]],\n",
      "       device='cuda:0', grad_fn=<SliceBackward0>) \n",
      "\n",
      "Layer: linear_relu_stack.0.bias | Size: torch.Size([512]) | Values : tensor([0.0296, 0.0083], device='cuda:0', grad_fn=<SliceBackward0>) \n",
      "\n",
      "Layer: linear_relu_stack.2.weight | Size: torch.Size([512, 512]) | Values : tensor([[ 0.0040,  0.0390,  0.0010,  ..., -0.0005,  0.0028,  0.0326],\n",
      "        [-0.0131,  0.0236, -0.0271,  ...,  0.0111, -0.0149, -0.0087]],\n",
      "       device='cuda:0', grad_fn=<SliceBackward0>) \n",
      "\n",
      "Layer: linear_relu_stack.2.bias | Size: torch.Size([512]) | Values : tensor([-0.0021, -0.0069], device='cuda:0', grad_fn=<SliceBackward0>) \n",
      "\n",
      "Layer: linear_relu_stack.4.weight | Size: torch.Size([10, 512]) | Values : tensor([[ 0.0360, -0.0166, -0.0204,  ..., -0.0062,  0.0310, -0.0300],\n",
      "        [ 0.0216, -0.0131, -0.0249,  ..., -0.0331,  0.0102, -0.0247]],\n",
      "       device='cuda:0', grad_fn=<SliceBackward0>) \n",
      "\n",
      "Layer: linear_relu_stack.4.bias | Size: torch.Size([10]) | Values : tensor([0.0245, 0.0315], device='cuda:0', grad_fn=<SliceBackward0>) \n",
      "\n"
     ]
    }
   ],
   "source": [
    "print(f\"Model structure: {model}\\n\\n\")\n",
    "\n",
    "for name, param in model.named_parameters():\n",
    "    print(f\"Layer: {name} | Size: {param.size()} | Values : {param[:2]} \\n\")"
   ]
  }
 ],
 "metadata": {
  "kernelspec": {
   "display_name": "Python 3 (ipykernel)",
   "language": "python",
   "name": "python3"
  },
  "language_info": {
   "codemirror_mode": {
    "name": "ipython",
    "version": 3
   },
   "file_extension": ".py",
   "mimetype": "text/x-python",
   "name": "python",
   "nbconvert_exporter": "python",
   "pygments_lexer": "ipython3",
   "version": "3.8.19"
  }
 },
 "nbformat": 4,
 "nbformat_minor": 5
}
