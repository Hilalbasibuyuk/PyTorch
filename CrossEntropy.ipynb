{
 "cells": [
  {
   "cell_type": "code",
   "execution_count": 1,
   "id": "6ba23bd7",
   "metadata": {},
   "outputs": [],
   "source": [
    "import torch\n",
    "import torch.nn as nn\n",
    "import numpy as np"
   ]
  },
  {
   "cell_type": "code",
   "execution_count": 2,
   "id": "0f5c0be6",
   "metadata": {},
   "outputs": [],
   "source": [
    "def cross_entropy(actual,predicted):\n",
    "    loss = -np.sum(actual*np.log(predicted))\n",
    "    return loss"
   ]
  },
  {
   "cell_type": "code",
   "execution_count": 3,
   "id": "f72a5f45",
   "metadata": {},
   "outputs": [],
   "source": [
    "# Y must be one hot encoded\n",
    "# if class 0: [1 0 0]\n",
    "# if class 1: [0 1 0]\n",
    "# if class 2: [0 0 1]\n",
    "\n",
    "y = np.array([1,0,0])"
   ]
  },
  {
   "cell_type": "code",
   "execution_count": 4,
   "id": "baf6b35a",
   "metadata": {},
   "outputs": [],
   "source": [
    "# y_pred has probabilities\n",
    "y_pred_good = np.array([0.7,0.2,0.1])\n",
    "y_pred_bad = np.array([0.1,0.3,0.6])"
   ]
  },
  {
   "cell_type": "code",
   "execution_count": 5,
   "id": "7f85ba2d",
   "metadata": {},
   "outputs": [],
   "source": [
    "l1 = cross_entropy(y, y_pred_good)\n",
    "l2 = cross_entropy(y, y_pred_bad)"
   ]
  },
  {
   "cell_type": "code",
   "execution_count": 6,
   "id": "0820c530",
   "metadata": {},
   "outputs": [
    {
     "name": "stdout",
     "output_type": "stream",
     "text": [
      "Loss1 numpy: 0.3567\n",
      "Loss2 numpy: 2.3026\n"
     ]
    }
   ],
   "source": [
    "print(f\"Loss1 numpy: {l1:.4f}\")\n",
    "print(f\"Loss2 numpy: {l2:.4f}\")"
   ]
  },
  {
   "cell_type": "markdown",
   "id": "51c1c8af",
   "metadata": {},
   "source": [
    "**PyTorch Cross Entropy**"
   ]
  },
  {
   "cell_type": "code",
   "execution_count": 7,
   "id": "56131910",
   "metadata": {},
   "outputs": [],
   "source": [
    "loss = nn.CrossEntropyLoss()"
   ]
  },
  {
   "cell_type": "code",
   "execution_count": 9,
   "id": "68299e57",
   "metadata": {},
   "outputs": [],
   "source": [
    "# There is  no one hot encoded \n",
    "y = torch.tensor([0])"
   ]
  },
  {
   "cell_type": "code",
   "execution_count": 14,
   "id": "fe5a311c",
   "metadata": {},
   "outputs": [],
   "source": [
    "# n_samples x n_classes = 1x3\n",
    "y_pred_good = torch.tensor([[2.0, 1.0, 0.1]])\n",
    "y_pred_bad = torch.tensor([[0.5, 2.0, 0.3]])"
   ]
  },
  {
   "cell_type": "code",
   "execution_count": 15,
   "id": "731cae69",
   "metadata": {},
   "outputs": [],
   "source": [
    "l1 = loss(y_pred_good, y)\n",
    "l2 = loss(y_pred_bad, y)"
   ]
  },
  {
   "cell_type": "code",
   "execution_count": 16,
   "id": "b3b6d422",
   "metadata": {},
   "outputs": [
    {
     "name": "stdout",
     "output_type": "stream",
     "text": [
      "0.4170299470424652\n",
      "1.840616226196289\n"
     ]
    }
   ],
   "source": [
    "print(l1.item())\n",
    "print(l2.item())"
   ]
  },
  {
   "cell_type": "code",
   "execution_count": 17,
   "id": "43eda436",
   "metadata": {},
   "outputs": [
    {
     "name": "stdout",
     "output_type": "stream",
     "text": [
      "tensor([0]) tensor([1])\n"
     ]
    }
   ],
   "source": [
    "_, predictions1 = torch.max(y_pred_good,1)\n",
    "_,predictions2 = torch.max(y_pred_bad,1)\n",
    "print(predictions1, predictions2)"
   ]
  }
 ],
 "metadata": {
  "kernelspec": {
   "display_name": "Python 3 (ipykernel)",
   "language": "python",
   "name": "python3"
  },
  "language_info": {
   "codemirror_mode": {
    "name": "ipython",
    "version": 3
   },
   "file_extension": ".py",
   "mimetype": "text/x-python",
   "name": "python",
   "nbconvert_exporter": "python",
   "pygments_lexer": "ipython3",
   "version": "3.10.13"
  }
 },
 "nbformat": 4,
 "nbformat_minor": 5
}
