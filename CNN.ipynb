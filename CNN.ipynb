{
 "cells": [
  {
   "cell_type": "code",
   "execution_count": 1,
   "id": "e4729653-c0a3-482a-88e2-3bf2a58fbcdb",
   "metadata": {},
   "outputs": [],
   "source": [
    "import torch\n",
    "import torch.nn as nn\n",
    "import torch.nn.functional as F\n",
    "import torchvision\n",
    "import torchvision.transforms as transforms\n",
    "import matplotlib.pyplot as plt\n",
    "import numpy as np"
   ]
  },
  {
   "cell_type": "code",
   "execution_count": 2,
   "id": "c512be77-7268-42ac-9262-72a9ddaff97f",
   "metadata": {},
   "outputs": [],
   "source": [
    "device = torch.device('cuda' if torch.cuda.is_available() else 'cpu')"
   ]
  },
  {
   "cell_type": "code",
   "execution_count": 3,
   "id": "a0f35122-09ef-46f5-8d12-74f0f4b8f095",
   "metadata": {},
   "outputs": [
    {
     "name": "stdout",
     "output_type": "stream",
     "text": [
      "cuda\n"
     ]
    }
   ],
   "source": [
    "print(device)"
   ]
  },
  {
   "cell_type": "code",
   "execution_count": 4,
   "id": "15e0f12e-1d87-43a2-8f84-adfa7df4d555",
   "metadata": {},
   "outputs": [],
   "source": [
    "num_epochs = 5\n",
    "batch_size = 4\n",
    "learning_rate = 0.001"
   ]
  },
  {
   "cell_type": "code",
   "execution_count": 5,
   "id": "54343f2e-f7c8-44da-b0c7-4550768fb7e5",
   "metadata": {},
   "outputs": [],
   "source": [
    "# Dataset has PILImage images of range [0, 1]. \n",
    "# We transform them to Tensors of normalized range [-1, 1]\n",
    "transform = transforms.Compose([transforms.ToTensor(),transforms.Normalize((0.5, 0.5, 0.5), (0.5, 0.5, 0.5))])"
   ]
  },
  {
   "cell_type": "code",
   "execution_count": 6,
   "id": "552954d4-1bc4-4d8f-b23d-90708f411c0a",
   "metadata": {},
   "outputs": [
    {
     "name": "stdout",
     "output_type": "stream",
     "text": [
      "Files already downloaded and verified\n",
      "Files already downloaded and verified\n"
     ]
    }
   ],
   "source": [
    "train_dataset = torchvision.datasets.CIFAR10(root='./data', train=True,\n",
    "                                        download=True, transform=transform)\n",
    "\n",
    "test_dataset = torchvision.datasets.CIFAR10(root='./data', train=False,\n",
    "                                       download=True, transform=transform)\n",
    "\n",
    "train_loader = torch.utils.data.DataLoader(train_dataset, batch_size=batch_size,\n",
    "                                          shuffle=True)\n",
    "\n",
    "test_loader = torch.utils.data.DataLoader(test_dataset, batch_size=batch_size,\n",
    "                                         shuffle=False)"
   ]
  },
  {
   "cell_type": "code",
   "execution_count": 7,
   "id": "18b1e466-429b-4707-9159-acb1997ca0df",
   "metadata": {},
   "outputs": [],
   "source": [
    "classes = (\"plane\", \"car\", \"bird\", \"cat\", \"deer\", \"dog\", \"frog\", \"horse\", \"ship\", \"truck\")"
   ]
  },
  {
   "cell_type": "code",
   "execution_count": 8,
   "id": "8a457258-3f57-40b0-90f8-c4208442cb32",
   "metadata": {},
   "outputs": [],
   "source": [
    "def imshow(img):\n",
    "    img = img/ 2 + 0.5\n",
    "    npimg = img.numpy()\n",
    "    plt.imshow(np.transpose(npimg,(1,2,0)))\n",
    "    plt.show()"
   ]
  },
  {
   "cell_type": "code",
   "execution_count": 9,
   "id": "cea018e8-66d5-4fcd-823a-c879912d27f0",
   "metadata": {},
   "outputs": [],
   "source": [
    "# get some random training images\n",
    "dataiter = iter(train_loader)\n",
    "images, labels = next(dataiter)"
   ]
  },
  {
   "cell_type": "code",
   "execution_count": 10,
   "id": "9524aa35-6c6f-4641-8757-2f9e4f3a2434",
   "metadata": {},
   "outputs": [
    {
     "data": {
      "image/png": "[encoded data removed]",
      "text/plain": [
       "<Figure size 640x480 with 1 Axes>"
      ]
     },
     "metadata": {},
     "output_type": "display_data"
    }
   ],
   "source": [
    "imshow(torchvision.utils.make_grid(images))"
   ]
  },
  {
   "cell_type": "code",
   "execution_count": 20,
   "id": "6d9e7768-f84a-4ab3-b2a7-b34baf86351f",
   "metadata": {},
   "outputs": [],
   "source": [
    "class ConvNet(nn.Module):\n",
    "    def __init__(self):\n",
    "        super(ConvNet,self).__init__()\n",
    "        self.conv1 = nn.Conv2d(3,6,5)\n",
    "        self.pool = nn.MaxPool2d(2,2)\n",
    "        self.conv2 = nn.Conv2d(6,16,5)\n",
    "        self.fc1 = nn.Linear(16*5*5,120)\n",
    "        self.fc2 = nn.Linear(120,84)\n",
    "        self.fc3 = nn.Linear(84,10)\n",
    "\n",
    "    def forward(self,x):\n",
    "        # -> n, 3, 32, 32 (first)\n",
    "        x = self.pool(F.relu(self.conv1(x))) # -> n, 6, 14, 14\n",
    "        x = self.pool(F.relu(self.conv2(x))) # -> n, 16, 5, 5\n",
    "        x = x.view( -1, 16*5*5)              # -> n, 400\n",
    "        x = F.relu(self.fc1(x))              # -> n, 120\n",
    "        x = F.relu(self.fc2(x))              # -> n, 84\n",
    "        x = self.fc3(x)                      # -> n, 10\n",
    "        return x"
   ]
  },
  {
   "cell_type": "code",
   "execution_count": 21,
   "id": "9b9acedd-3444-4a4d-b8d7-d142a8c87c1f",
   "metadata": {},
   "outputs": [],
   "source": [
    "model = ConvNet().to(device)"
   ]
  },
  {
   "cell_type": "code",
   "execution_count": 22,
   "id": "40ab4700-b435-407c-9339-0175582158ff",
   "metadata": {},
   "outputs": [],
   "source": [
    "criterion = nn.CrossEntropyLoss()\n",
    "optimizer = torch.optim.SGD(model.parameters(),lr = learning_rate)"
   ]
  },
  {
   "cell_type": "code",
   "execution_count": 23,
   "id": "87d62117-f949-4fc9-a6d4-4b7c75686446",
   "metadata": {},
   "outputs": [
    {
     "name": "stdout",
     "output_type": "stream",
     "text": [
      "Epoch [1/5], Step [2000/12500], Loss: 2.3074\n",
      "Epoch [1/5], Step [4000/12500], Loss: 2.2952\n",
      "Epoch [1/5], Step [6000/12500], Loss: 2.3110\n",
      "Epoch [1/5], Step [8000/12500], Loss: 2.3208\n",
      "Epoch [1/5], Step [10000/12500], Loss: 2.2733\n",
      "Epoch [1/5], Step [12000/12500], Loss: 2.2992\n",
      "Epoch [2/5], Step [2000/12500], Loss: 2.3175\n",
      "Epoch [2/5], Step [4000/12500], Loss: 1.8829\n",
      "Epoch [2/5], Step [6000/12500], Loss: 1.8729\n",
      "Epoch [2/5], Step [8000/12500], Loss: 1.7998\n",
      "Epoch [2/5], Step [10000/12500], Loss: 1.7180\n",
      "Epoch [2/5], Step [12000/12500], Loss: 1.3943\n",
      "Epoch [3/5], Step [2000/12500], Loss: 1.2611\n",
      "Epoch [3/5], Step [4000/12500], Loss: 1.4416\n",
      "Epoch [3/5], Step [6000/12500], Loss: 1.5704\n",
      "Epoch [3/5], Step [8000/12500], Loss: 1.1970\n",
      "Epoch [3/5], Step [10000/12500], Loss: 1.2461\n",
      "Epoch [3/5], Step [12000/12500], Loss: 2.3203\n",
      "Epoch [4/5], Step [2000/12500], Loss: 1.1313\n",
      "Epoch [4/5], Step [4000/12500], Loss: 2.3040\n",
      "Epoch [4/5], Step [6000/12500], Loss: 0.5370\n",
      "Epoch [4/5], Step [8000/12500], Loss: 1.8529\n",
      "Epoch [4/5], Step [10000/12500], Loss: 1.5166\n",
      "Epoch [4/5], Step [12000/12500], Loss: 0.6591\n",
      "Epoch [5/5], Step [2000/12500], Loss: 2.0414\n",
      "Epoch [5/5], Step [4000/12500], Loss: 1.0306\n",
      "Epoch [5/5], Step [6000/12500], Loss: 1.9726\n",
      "Epoch [5/5], Step [8000/12500], Loss: 1.5718\n",
      "Epoch [5/5], Step [10000/12500], Loss: 1.8449\n",
      "Epoch [5/5], Step [12000/12500], Loss: 1.0611\n",
      "Finished Training\n"
     ]
    }
   ],
   "source": [
    "n_total_steps = len(train_loader)\n",
    "for epoch in range(num_epochs):\n",
    "    for i,(images, labels) in enumerate(train_loader):\n",
    "        # origin shape: [4, 3, 32, 32] = 4, 3, 1024\n",
    "        # input_layer: 3 input channels, 6 output channels, 5 kernel size\n",
    "        images = images.to(device)\n",
    "        labels = labels.to(device)\n",
    "        \n",
    "        # forward pass\n",
    "        outputs = model(images)\n",
    "        loss = criterion(outputs, labels)\n",
    "\n",
    "        # Backward and optimize\n",
    "        optimizer.zero_grad()\n",
    "        loss.backward()\n",
    "        optimizer.step()\n",
    "        \n",
    "        if (i+1) % 2000 == 0:\n",
    "            print (f'Epoch [{epoch+1}/{num_epochs}], Step [{i+1}/{n_total_steps}], Loss: {loss.item():.4f}')\n",
    "print('Finished Training')\n",
    "PATH = './cnn.pth'\n",
    "torch.save(model.state_dict(), PATH)"
   ]
  },
  {
   "cell_type": "code",
   "execution_count": 24,
   "id": "dc173664-5d71-437d-8567-06d22d3f92c2",
   "metadata": {},
   "outputs": [
    {
     "name": "stdout",
     "output_type": "stream",
     "text": [
      "Accuracy of the network: 48.17 %\n",
      "Accuracy of plane: 43.7 %\n",
      "Accuracy of car: 66.3 %\n",
      "Accuracy of bird: 29.9 %\n",
      "Accuracy of cat: 16.2 %\n",
      "Accuracy of deer: 27.9 %\n",
      "Accuracy of dog: 46.3 %\n",
      "Accuracy of frog: 76.0 %\n",
      "Accuracy of horse: 54.8 %\n",
      "Accuracy of ship: 66.3 %\n",
      "Accuracy of truck: 54.3 %\n"
     ]
    }
   ],
   "source": [
    "with torch.no_grad():\n",
    "    n_correct = 0\n",
    "    n_samples = 0\n",
    "    n_class_correct = [0 for i in range(10)]\n",
    "    n_class_samples = [0 for i in range(10)]\n",
    "    for images, labels in test_loader:\n",
    "        images = images.to(device)\n",
    "        labels = labels.to(device)\n",
    "        outputs = model(images)\n",
    "        # max returns (value ,index)\n",
    "        _, predicted = torch.max(outputs, 1)\n",
    "        n_samples += labels.size(0)\n",
    "        n_correct += (predicted == labels).sum().item()\n",
    "        \n",
    "        for i in range(batch_size):\n",
    "            label = labels[i]\n",
    "            pred = predicted[i]\n",
    "            if (label == pred):\n",
    "                n_class_correct[label] += 1\n",
    "            n_class_samples[label] += 1\n",
    "\n",
    "    acc = 100.0 * n_correct / n_samples\n",
    "    print(f'Accuracy of the network: {acc} %')\n",
    "\n",
    "    for i in range(10):\n",
    "        acc = 100.0 * n_class_correct[i] / n_class_samples[i]\n",
    "        print(f'Accuracy of {classes[i]}: {acc} %')"
   ]
  }
 ],
 "metadata": {
  "kernelspec": {
   "display_name": "Python 3 (ipykernel)",
   "language": "python",
   "name": "python3"
  },
  "language_info": {
   "codemirror_mode": {
    "name": "ipython",
    "version": 3
   },
   "file_extension": ".py",
   "mimetype": "text/x-python",
   "name": "python",
   "nbconvert_exporter": "python",
   "pygments_lexer": "ipython3",
   "version": "3.8.19"
  }
 },
 "nbformat": 4,
 "nbformat_minor": 5
}
