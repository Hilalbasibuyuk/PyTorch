{
 "cells": [
  {
   "cell_type": "code",
   "execution_count": 1,
   "id": "66cade00-59d4-4c88-8740-34f6c3ba8961",
   "metadata": {},
   "outputs": [],
   "source": [
    "import torch\n",
    "import torchvision\n",
    "import torchvision.transforms as transforms\n",
    "from torch.utils.tensorboard import SummaryWriter\n",
    "from datetime import datetime"
   ]
  },
  {
   "cell_type": "code",
   "execution_count": 2,
   "id": "cd3f4cb2-cead-4718-836e-1d969348119a",
   "metadata": {},
   "outputs": [],
   "source": [
    "transform = transforms.Compose([transforms.ToTensor(),\n",
    "                                transforms.Normalize((0.5,),(0.5,))])"
   ]
  },
  {
   "cell_type": "code",
   "execution_count": 3,
   "id": "65531ce4-1513-473f-8bb7-902bfa935bc2",
   "metadata": {},
   "outputs": [],
   "source": [
    "training_set = torchvision.datasets.FashionMNIST('./data', train=True, transform=transform, download=True)\n",
    "validation_set = torchvision.datasets.FashionMNIST('./data', train=False, transform=transform, download=True)"
   ]
  },
  {
   "cell_type": "code",
   "execution_count": 4,
   "id": "de664d12-799f-4b3f-a58d-2c36a243253c",
   "metadata": {},
   "outputs": [],
   "source": [
    "training_loader = torch.utils.data.DataLoader(training_set, batch_size=4, shuffle=True)\n",
    "validation_loader = torch.utils.data.DataLoader(validation_set, batch_size=4, shuffle=False)"
   ]
  },
  {
   "cell_type": "code",
   "execution_count": 5,
   "id": "5be9af3f-4405-4f4f-a1b7-4cc8e3ed22b9",
   "metadata": {},
   "outputs": [],
   "source": [
    "classes = ('T-shirt/top', 'Trouser', 'Pullover', 'Dress', 'Coat',\n",
    "        'Sandal', 'Shirt', 'Sneaker', 'Bag', 'Ankle Boot')"
   ]
  },
  {
   "cell_type": "code",
   "execution_count": 6,
   "id": "7415dfb0-5bcf-434d-8a6c-99a91e88ec37",
   "metadata": {},
   "outputs": [
    {
     "name": "stdout",
     "output_type": "stream",
     "text": [
      "Training set has 60000 instances\n",
      "Validation set has 10000 instances\n"
     ]
    }
   ],
   "source": [
    "print('Training set has {} instances'.format(len(training_set)))\n",
    "print('Validation set has {} instances'.format(len(validation_set)))"
   ]
  },
  {
   "cell_type": "code",
   "execution_count": 13,
   "id": "e00da61f-82c3-4069-b78f-c7c3dfd213ce",
   "metadata": {},
   "outputs": [
    {
     "name": "stdout",
     "output_type": "stream",
     "text": [
      "Sandal  Sandal  Trouser  Sandal\n"
     ]
    },
    {
     "data": {
      "image/png": "[encoded data removed]",
      "text/plain": [
       "<Figure size 640x480 with 1 Axes>"
      ]
     },
     "metadata": {},
     "output_type": "display_data"
    }
   ],
   "source": [
    "import matplotlib.pyplot as plt\n",
    "import numpy as np\n",
    "def imshow(img, one_channel = False):\n",
    "    if one_channel:\n",
    "        img = img.mean(dim=0)\n",
    "    img = img/2 + 0.5  # unnormalize\n",
    "    npimg = img.numpy()\n",
    "    if one_channel:\n",
    "        plt.imshow(npimg, cmap = \"Greys\")\n",
    "    else:\n",
    "        plt.imshow(np.transpose(npimg, (1, 2, 0)))\n",
    "\n",
    "dataiter = iter(training_loader)\n",
    "images, labels = next(dataiter)\n",
    "\n",
    "img_grid = torchvision.utils.make_grid(images)\n",
    "imshow(img_grid, one_channel=True)\n",
    "print('  '.join(classes[labels[j]] for j in range(4)))"
   ]
  },
  {
   "cell_type": "code",
   "execution_count": 16,
   "id": "936815b4-7da5-4d74-9f94-e5004d6ff7c7",
   "metadata": {},
   "outputs": [],
   "source": [
    "import torch.nn as nn\n",
    "import torch.nn.functional as F"
   ]
  },
  {
   "cell_type": "code",
   "execution_count": 25,
   "id": "99c2045d-73e9-4ae7-aa4d-3c4b26299a3c",
   "metadata": {},
   "outputs": [],
   "source": [
    "class GarmentClassifier(nn.Module):\n",
    "    def __init__(self):\n",
    "        super(GarmentClassifier,self).__init__()\n",
    "        self.conv1 = nn.Conv2d(1, 6, 5)\n",
    "        self.pool = nn.MaxPool2d(2,2)\n",
    "        self.conv2 = nn.Conv2d(6 ,16 ,5)\n",
    "        self.fc1 = nn.Linear(16*4*4, 120)\n",
    "        self.fc2 = nn.Linear(120,84)\n",
    "        self.fc3 = nn.Linear(84,10)\n",
    "    def forward(self, x):\n",
    "        x = self.pool(F.relu(self.conv1(x)))\n",
    "        x = self.pool(F.relu(self.conv2(x)))\n",
    "        x = x.view(-1, 16*4*4)\n",
    "        x = F.relu(self.fc1(x))\n",
    "        x = F.relu(self.fc2(x))\n",
    "        x = self.fc3(x)\n",
    "        return x"
   ]
  },
  {
   "cell_type": "code",
   "execution_count": 26,
   "id": "e2f7f7ec-a180-42cd-bc33-35ffd71df733",
   "metadata": {},
   "outputs": [],
   "source": [
    "model = GarmentClassifier()"
   ]
  },
  {
   "cell_type": "code",
   "execution_count": 27,
   "id": "04ef51a8-7d6d-4b35-975e-b933b5b445dd",
   "metadata": {},
   "outputs": [
    {
     "name": "stdout",
     "output_type": "stream",
     "text": [
      "tensor([[0.2114, 0.2184, 0.8512, 0.8810, 0.5981, 0.9778, 0.2493, 0.9013, 0.9915,\n",
      "         0.7386],\n",
      "        [0.0601, 0.1214, 0.6185, 0.6556, 0.8390, 0.0643, 0.6815, 0.7641, 0.7872,\n",
      "         0.9962],\n",
      "        [0.0229, 0.1714, 0.8490, 0.5496, 0.3947, 0.6601, 0.1766, 0.8051, 0.1382,\n",
      "         0.4018],\n",
      "        [0.0554, 0.5571, 0.2947, 0.3514, 0.9533, 0.7829, 0.8620, 0.0584, 0.7532,\n",
      "         0.2166]])\n",
      "tensor([1, 5, 3, 7])\n"
     ]
    }
   ],
   "source": [
    "loss_fn = torch.nn.CrossEntropyLoss()\n",
    "# NB: Loss functions expect data in batches, so we're creating batches of 4\n",
    "# Represents the model's confidence in each of the 10 classes for a given input\n",
    "dummy_outputs = torch.rand(4, 10)\n",
    "# Represents the correct class among the 10 being tested\n",
    "dummy_labels = torch.tensor([1, 5, 3, 7])\n",
    "print(dummy_outputs)\n",
    "print(dummy_labels)"
   ]
  },
  {
   "cell_type": "code",
   "execution_count": 28,
   "id": "6dfa2392-5ab2-48fd-803c-06f5b1d8ae59",
   "metadata": {},
   "outputs": [
    {
     "name": "stdout",
     "output_type": "stream",
     "text": [
      "Total loss for this batch: 2.6571309566497803\n"
     ]
    }
   ],
   "source": [
    "loss = loss_fn(dummy_outputs, dummy_labels)\n",
    "print('Total loss for this batch: {}'.format(loss.item()))"
   ]
  },
  {
   "cell_type": "code",
   "execution_count": 29,
   "id": "31fb8efe-63ed-492e-9de5-52dee7736f62",
   "metadata": {},
   "outputs": [],
   "source": [
    "optimizer = torch.optim.SGD(model.parameters(), lr=0.001, momentum=0.9)"
   ]
  },
  {
   "cell_type": "code",
   "execution_count": 30,
   "id": "5d548693-2c71-4615-b9f9-4fe10b15a092",
   "metadata": {},
   "outputs": [],
   "source": [
    "def train_one_epoch(epoch_index, tb_writer):\n",
    "    running_loss = 0\n",
    "    last_loss = 0\n",
    "    for i, data in enumerate(training_loader):\n",
    "        inputs, labels = data\n",
    "        optimizer.zero_grad()\n",
    "        outputs = model(inputs)\n",
    "        loss = loss_fn(outputs, labels)\n",
    "        loss.backward()\n",
    "        optimizer.step()\n",
    "        running_loss += loss.item()\n",
    "        if i % 1000 == 999:\n",
    "            last_loss = running_loss / 1000 # loss per batch\n",
    "            print('  batch {} loss: {}'.format(i + 1, last_loss))\n",
    "            tb_x = epoch_index * len(training_loader) + i + 1\n",
    "            tb_writer.add_scalar('Loss/train', last_loss, tb_x)\n",
    "            running_loss = 0.\n",
    "    return last_loss"
   ]
  },
  {
   "cell_type": "code",
   "execution_count": 31,
   "id": "14a003bc-3517-4d49-ac78-293065600362",
   "metadata": {},
   "outputs": [
    {
     "name": "stdout",
     "output_type": "stream",
     "text": [
      "EPOCH 1:\n",
      "  batch 1000 loss: 1.9788856257498264\n",
      "  batch 2000 loss: 0.8467948801647872\n",
      "  batch 3000 loss: 0.7157295617200434\n",
      "  batch 4000 loss: 0.6586122044045478\n",
      "  batch 5000 loss: 0.6041266018226743\n",
      "  batch 6000 loss: 0.5730414411267266\n",
      "  batch 7000 loss: 0.5474281007114332\n",
      "  batch 8000 loss: 0.5022374506118358\n",
      "  batch 9000 loss: 0.4916987164642196\n",
      "  batch 10000 loss: 0.49446949050575495\n",
      "  batch 11000 loss: 0.47700415970943866\n",
      "  batch 12000 loss: 0.469417775003938\n",
      "  batch 13000 loss: 0.4425571775601129\n",
      "  batch 14000 loss: 0.45674926599580795\n",
      "  batch 15000 loss: 0.4045581150105572\n",
      "LOSS train 0.4045581150105572 valid 0.4340156316757202\n",
      "EPOCH 2:\n",
      "  batch 1000 loss: 0.40390229290068963\n",
      "  batch 2000 loss: 0.3993991344135138\n",
      "  batch 3000 loss: 0.3931060655856563\n",
      "  batch 4000 loss: 0.3980762047492026\n",
      "  batch 5000 loss: 0.38819020687567535\n",
      "  batch 6000 loss: 0.3949922211659723\n",
      "  batch 7000 loss: 0.37095255969784924\n",
      "  batch 8000 loss: 0.3766471268375171\n",
      "  batch 9000 loss: 0.3583166226508911\n",
      "  batch 10000 loss: 0.3658003463638597\n",
      "  batch 11000 loss: 0.365766226421285\n",
      "  batch 12000 loss: 0.36193972735165153\n",
      "  batch 13000 loss: 0.3676369196511223\n",
      "  batch 14000 loss: 0.3432277672600176\n",
      "  batch 15000 loss: 0.35378299897362014\n",
      "LOSS train 0.35378299897362014 valid 0.3694249093532562\n",
      "EPOCH 3:\n",
      "  batch 1000 loss: 0.33446910646377365\n",
      "  batch 2000 loss: 0.315633688313992\n",
      "  batch 3000 loss: 0.33446481841451897\n",
      "  batch 4000 loss: 0.32842488376465917\n",
      "  batch 5000 loss: 0.3320344792270917\n",
      "  batch 6000 loss: 0.3206043613757647\n",
      "  batch 7000 loss: 0.3312840275533381\n",
      "  batch 8000 loss: 0.3369173357434338\n",
      "  batch 9000 loss: 0.31189652302573995\n",
      "  batch 10000 loss: 0.32200801427598347\n",
      "  batch 11000 loss: 0.3175618387251452\n",
      "  batch 12000 loss: 0.31512220919285755\n",
      "  batch 13000 loss: 0.33401585444946247\n",
      "  batch 14000 loss: 0.32103778845901254\n",
      "  batch 15000 loss: 0.31448972248926294\n",
      "LOSS train 0.31448972248926294 valid 0.3277992904186249\n",
      "EPOCH 4:\n",
      "  batch 1000 loss: 0.3052293817597565\n",
      "  batch 2000 loss: 0.31119311062645283\n",
      "  batch 3000 loss: 0.29887128617391134\n",
      "  batch 4000 loss: 0.3084501204280878\n",
      "  batch 5000 loss: 0.2882679353544081\n",
      "  batch 6000 loss: 0.30262689273737486\n",
      "  batch 7000 loss: 0.2862296735485777\n",
      "  batch 8000 loss: 0.3008098935799426\n",
      "  batch 9000 loss: 0.30902640960601274\n",
      "  batch 10000 loss: 0.3037229650749359\n",
      "  batch 11000 loss: 0.2972690283307311\n",
      "  batch 12000 loss: 0.28839809997220434\n",
      "  batch 13000 loss: 0.30725419422617417\n",
      "  batch 14000 loss: 0.2698370659357333\n",
      "  batch 15000 loss: 0.2761925443476357\n",
      "LOSS train 0.2761925443476357 valid 0.3274482786655426\n",
      "EPOCH 5:\n",
      "  batch 1000 loss: 0.2609940974404526\n",
      "  batch 2000 loss: 0.28301355654950383\n",
      "  batch 3000 loss: 0.2781489940242873\n",
      "  batch 4000 loss: 0.28062010558184286\n",
      "  batch 5000 loss: 0.2718192005174751\n",
      "  batch 6000 loss: 0.25883366425489657\n",
      "  batch 7000 loss: 0.26610088903054474\n",
      "  batch 8000 loss: 0.28144906886706306\n",
      "  batch 9000 loss: 0.28315952224561625\n",
      "  batch 10000 loss: 0.2632870839104071\n",
      "  batch 11000 loss: 0.27855844502100807\n",
      "  batch 12000 loss: 0.30266654609249966\n",
      "  batch 13000 loss: 0.2846881549355312\n",
      "  batch 14000 loss: 0.2803869910549474\n",
      "  batch 15000 loss: 0.2794517070181355\n",
      "LOSS train 0.2794517070181355 valid 0.33462047576904297\n"
     ]
    }
   ],
   "source": [
    "# Initializing in a separate cell so we can easily add more epochs to the same run\n",
    "timestamp = datetime.now().strftime('%Y%m%d_%H%M%S')\n",
    "writer = SummaryWriter('runs/fashion_trainer_{}'.format(timestamp))\n",
    "epoch_number = 0\n",
    "\n",
    "EPOCHS = 5\n",
    "\n",
    "best_vloss = 1_000_000.\n",
    "\n",
    "for epoch in range(EPOCHS):\n",
    "    print('EPOCH {}:'.format(epoch_number + 1))\n",
    "\n",
    "    # Make sure gradient tracking is on, and do a pass over the data\n",
    "    model.train(True)\n",
    "    avg_loss = train_one_epoch(epoch_number, writer)\n",
    "\n",
    "\n",
    "    running_vloss = 0.0\n",
    "    # Set the model to evaluation mode, disabling dropout and using population\n",
    "    # statistics for batch normalization.\n",
    "    model.eval()\n",
    "\n",
    "    # Disable gradient computation and reduce memory consumption.\n",
    "    with torch.no_grad():\n",
    "        for i, vdata in enumerate(validation_loader):\n",
    "            vinputs, vlabels = vdata\n",
    "            voutputs = model(vinputs)\n",
    "            vloss = loss_fn(voutputs, vlabels)\n",
    "            running_vloss += vloss\n",
    "\n",
    "    avg_vloss = running_vloss / (i + 1)\n",
    "    print('LOSS train {} valid {}'.format(avg_loss, avg_vloss))\n",
    "\n",
    "    # Log the running loss averaged per batch\n",
    "    # for both training and validation\n",
    "    writer.add_scalars('Training vs. Validation Loss',\n",
    "                    { 'Training' : avg_loss, 'Validation' : avg_vloss },\n",
    "                    epoch_number + 1)\n",
    "    writer.flush()\n",
    "\n",
    "    # Track best performance, and save the model's state\n",
    "    if avg_vloss < best_vloss:\n",
    "        best_vloss = avg_vloss\n",
    "        model_path = 'model_{}_{}'.format(timestamp, epoch_number)\n",
    "        torch.save(model.state_dict(), model_path)\n",
    "\n",
    "    epoch_number += 1"
   ]
  },
  {
   "cell_type": "code",
   "execution_count": null,
   "id": "73f5450e-b131-4f9f-a2ba-1957d37c761c",
   "metadata": {},
   "outputs": [],
   "source": [
    "# Modelin kaydedilmiş sürümünü yükleme\n",
    "saved_model = GarmentClassifier()\n",
    "saved_model.load_state_dict(torch.load(PATH))"
   ]
  }
 ],
 "metadata": {
  "kernelspec": {
   "display_name": "Python 3 (ipykernel)",
   "language": "python",
   "name": "python3"
  },
  "language_info": {
   "codemirror_mode": {
    "name": "ipython",
    "version": 3
   },
   "file_extension": ".py",
   "mimetype": "text/x-python",
   "name": "python",
   "nbconvert_exporter": "python",
   "pygments_lexer": "ipython3",
   "version": "3.8.19"
  }
 },
 "nbformat": 4,
 "nbformat_minor": 5
}
