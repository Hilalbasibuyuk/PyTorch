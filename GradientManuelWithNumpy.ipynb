{
 "cells": [
  {
   "cell_type": "code",
   "execution_count": 1,
   "id": "26d1607d",
   "metadata": {},
   "outputs": [],
   "source": [
    "import numpy as np"
   ]
  },
  {
   "cell_type": "code",
   "execution_count": 2,
   "id": "eead4366",
   "metadata": {},
   "outputs": [],
   "source": [
    "x = np.array([1,2,3,4], dtype= np.float32)\n",
    "y = np.array([2,4,6,8], dtype= np.float32)"
   ]
  },
  {
   "cell_type": "code",
   "execution_count": 3,
   "id": "d9ba9e9d",
   "metadata": {},
   "outputs": [],
   "source": [
    "w = 0.0"
   ]
  },
  {
   "cell_type": "code",
   "execution_count": 4,
   "id": "b3fc17bb",
   "metadata": {},
   "outputs": [],
   "source": [
    "# model prediction\n",
    "def forward(x):\n",
    "    return w * x"
   ]
  },
  {
   "cell_type": "code",
   "execution_count": 5,
   "id": "5b1d96b9",
   "metadata": {},
   "outputs": [],
   "source": [
    "# loss = MSE\n",
    "def loss(y, y_predicted):\n",
    "    return ((y_predicted-y)**2).mean()"
   ]
  },
  {
   "cell_type": "code",
   "execution_count": 6,
   "id": "0597c45b",
   "metadata": {},
   "outputs": [],
   "source": [
    "def gradient(x, y, y_predicted):\n",
    "    return np.dot(x*2, y_predicted - y).mean()"
   ]
  },
  {
   "cell_type": "code",
   "execution_count": 7,
   "id": "0b540cb7",
   "metadata": {},
   "outputs": [
    {
     "name": "stdout",
     "output_type": "stream",
     "text": [
      "Prediction before training : f(5) = 0.000\n"
     ]
    }
   ],
   "source": [
    "print(f\"Prediction before training : f(5) = {forward(5):.3f}\")"
   ]
  },
  {
   "cell_type": "code",
   "execution_count": 9,
   "id": "3226d4e9",
   "metadata": {},
   "outputs": [
    {
     "name": "stdout",
     "output_type": "stream",
     "text": [
      "epoch 1:w = 1.200, loss= 30.00000000\n",
      "epoch 2:w = 1.680, loss= 4.79999924\n",
      "epoch 3:w = 1.872, loss= 0.76800019\n",
      "epoch 4:w = 1.949, loss= 0.12288000\n",
      "epoch 5:w = 1.980, loss= 0.01966083\n",
      "epoch 6:w = 1.992, loss= 0.00314570\n",
      "epoch 7:w = 1.997, loss= 0.00050332\n",
      "epoch 8:w = 1.999, loss= 0.00008053\n",
      "epoch 9:w = 1.999, loss= 0.00001288\n",
      "epoch 10:w = 2.000, loss= 0.00000206\n",
      "Prediction after training : f(5) = 9.999\n"
     ]
    }
   ],
   "source": [
    "# Training\n",
    "learning_rate = 0.01\n",
    "n_iters = 10\n",
    "\n",
    "for epoch in range(n_iters):\n",
    "    # prediction = forward pass\n",
    "    y_pred = forward(x)\n",
    "    \n",
    "    # loss\n",
    "    l = loss(y, y_pred)\n",
    "    \n",
    "    # gradient\n",
    "    dw = gradient(x,y,y_pred)\n",
    "    \n",
    "    # update weights\n",
    "    w -= learning_rate * dw\n",
    "    \n",
    "    if epoch % 1 == 0:\n",
    "        print(f\"epoch {epoch+1}:w = {w:.3f}, loss= {l:.8f}\")\n",
    "              \n",
    "print(f\"Prediction after training : f(5) = {forward(5):.3f}\")"
   ]
  }
 ],
 "metadata": {
  "kernelspec": {
   "display_name": "Python 3 (ipykernel)",
   "language": "python",
   "name": "python3"
  },
  "language_info": {
   "codemirror_mode": {
    "name": "ipython",
    "version": 3
   },
   "file_extension": ".py",
   "mimetype": "text/x-python",
   "name": "python",
   "nbconvert_exporter": "python",
   "pygments_lexer": "ipython3",
   "version": "3.10.13"
  }
 },
 "nbformat": 4,
 "nbformat_minor": 5
}
